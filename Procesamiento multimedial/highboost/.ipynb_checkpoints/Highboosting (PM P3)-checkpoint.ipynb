{
 "cells": [
  {
   "cell_type": "markdown",
   "metadata": {},
   "source": [
    "## High-boosting filtering\n",
    "\n",
    "Carlos Andrés Reyes Evangelista\n",
    "157068\n",
    "Ingeniería en Sistemas Computacionales\n",
    "\n",
    "\n",
    "La presente práctica pretende demostrar la implementación del filtro conocido como High-boosting aplicado manualmente sobre una imagen."
   ]
  },
  {
   "cell_type": "code",
   "execution_count": 1,
   "metadata": {},
   "outputs": [],
   "source": [
    "## DECLARACIÓN DE VARIABLES Y MODULOS REQUERIDOS ##\n",
    "\n",
    "import cv2 as cv\n",
    "import numpy as np\n",
    "\n",
    "\n",
    "from functools import reduce\n",
    "\n",
    "#imagen original cargada desde disco\n",
    "original = cv.imread('image.jpg')\n",
    "\n",
    "#imagen en canal blanco y negro que será utilizada y sobrescrita por los algoritmos aquí presentados\n",
    "bn = cv.cvtColor(original, cv.COLOR_BGR2GRAY)\n",
    "\n",
    "#obtención de la cantidad de filas y columnas acordes a la dimensión de la imagen\n",
    "rows, cols = bn.shape\n",
    "\n",
    "#variable susceptible de ser cambiada, modificará directamente las máscaras en todo el programa\n",
    "A = 1\n",
    "\n",
    "\n",
    "mask1 = [-1, -1, -1, -1, (A + 8), -1, -1, -1, -1]\n",
    "\n",
    "\n",
    "mask2 = [0, -1, 0, -1, (A + 4), -1, 0, -1, 0]"
   ]
  },
  {
   "cell_type": "markdown",
   "metadata": {},
   "source": [
    "La mayor parte de esta práctica se llevará a cabo con la utilización de funciones provenientes del paradigma de programación funcional, tales como map, reduce y funciones lambda. La razón por la cual se decidió adquirir esta postura es por razones de práctica del paradigma y porque las operaciones a efectuar en esta práctica pueden verse más inherentemente apegadas al paradigma funcional. Se incluirá una explicación para cada operación para aumentar la claridad."
   ]
  },
  {
   "cell_type": "code",
   "execution_count": 2,
   "metadata": {},
   "outputs": [],
   "source": [
    "## FUNCIONES A UTILIZAR ##\n",
    "\n",
    "def getNeighborhood (i, j):\n",
    "    \"Dada una coordenada (i, j) esta función regresa una lista de 9 tuplas con las coordenadas en la forma (x, y) de todos sus pixeles contiguos\"\n",
    "    #Utilizando la función zip se creará una nueva lista de tuplas combinando uno por uno los elementos de las siguientes listas:\n",
    "    #[x x x] ([x] * 3) y [j-1, j, j+2] (range (j-1, j+2)). \n",
    "    #Esta operación se realizará para cada x que pertenece a {i-1, i, i+1}\n",
    "    coordinates = map (lambda x: zip([x] * 3, range(j-1, j+2)), range(i-1, i+2))\n",
    "    #esta instrucción simplemente convierte la lista de listas de tuplas en una sola lista de tuplas\n",
    "    return [item for sublist in coordinates for item in sublist]\n",
    "\n",
    "\n",
    "#Para la representación del padding decidí que no agregaría una hilera y una columna replicada para cada borde\n",
    "#en su lugar decidí que, cada vez que una coordenada requerida estuviera fuera de las dimensiones de la imagen,\n",
    "#sumaría 1 a la coordenada en x ó y si sale hacia valores negativos y restaría 1 si excede las dimensiones\n",
    "#de esa manera la coordenada tomaría el valor de un pixel existente y contiguo a esa coordenada fuera de dimensiones\n",
    "#Sin embargo, tampoco quería llenar de condicionales if innecesarios (if x < 0 x++, if y < 0 y++, if x > rows x--, if x = -1 and y = -1 then x = 0, y = 0)\n",
    "#así que ingenié esta fórmula aritmética que simplemente añade una unidad si el valor es negativo o resta uno\n",
    "#si el valor es positivo, así quedan cubiertos todos los casos pues se modulariza para x y para y de cada coordenada \n",
    "def addsubs1 (i):\n",
    "    \"Suma 1 si i < 0 y resta 1 si i > 0\"\n",
    "    if i != 0:\n",
    "        i -= i / abs(i)\n",
    "    return i\n",
    "\n",
    "\n",
    "#Esta función implementa la anterior para cada componente de una coordenada dada\n",
    "def correctOutOfBounds (tuple, rows, cols):\n",
    "    \"Dada una tupla que contiene coordenadas (x, y) y un límite de filas y columnas, retorna una tupla de coordenadas que se encuentran dentro de las dimensiones de la imagen\"\n",
    "    i, j = tuple\n",
    "    \n",
    "    if i not in range (rows):\n",
    "        i = addsubs1(i)\n",
    "    if j not in range (cols):\n",
    "        j = addsubs1(j)\n",
    "    return (int(i), int(j))\n"
   ]
  },
  {
   "cell_type": "markdown",
   "metadata": {},
   "source": [
    "Cada una de las siguientes cajas contiene el código para cada una de las tres opciones de tratamiento de bordes solicitadas, preferentemente se sugiere correr una y brincar hasta la última celda para ver el resultado\n",
    "(Ya mejoraré en este aspecto cuando tenga más dominio de Jupyter y Python que hasta ahora es casi nulo)"
   ]
  },
  {
   "cell_type": "markdown",
   "metadata": {},
   "source": [
    "Las cajas siguientes utilizan una lógica similar con pequeñas variantes a depender del tratamiento de bordes utilizado, aquí explicaré el funcionamiento general y en cada caja comentaré las diferencias\n",
    "\n",
    "Los for exteriores los dejé en aspecto imperativo para no sobrecargar en demasía con otro map anidado, recorren cada pixel con coordenadas (i, j)\n",
    "\n",
    "currentNeighborhoodCoordinates = getNeighborhood(i, j) \n",
    "-> esta línea guarda en currentNeighborhoodCoordinates\n",
    "una lista con las coordenadas de los vecinos para cada pixel en forma de tuplas\n",
    "\n",
    "currentNeighborhood = map (lambda x: bn.item (x[0], x[1]), currentNeighborhoodCoordinates) \n",
    "-> esta línea guarda en currentNeighborhood el valor de la imagen (bn en este caso) para cada una de las coordenadas guardadas en la lista anterior, el resultado es una lista con los 9 valores de los pixeles vecinos incluyendo el actual a procesar\n",
    "\n",
    "maskApplied         = map (lambda x, y: x * y, currentNeighborhood, mask1)\n",
    "-> esta linea guarda en maskApplied el resultado de multiplicar cada valor de la lista anterior, 1 a 1, contra los valores de la máscara, el resultado es una lista con los valores ya multiplicados por la máscara\n",
    "\n",
    "result              = reduce (lambda x, y: x + y, maskApplied) / 9\n",
    "-> esta linea guarda en result el resultado final de haber hecho la sumatoria de los valores anteriores (ya multiplicados) y haberlo dividido entre 9"
   ]
  },
  {
   "cell_type": "code",
   "execution_count": 3,
   "metadata": {},
   "outputs": [],
   "source": [
    "## FULL MASK LIMITING THE EXCURSIONS OF THE CENTER OF THE MASK TO BE IN THE IMAGE ##\n",
    "\n",
    "#Para este método las iteraciones comienzan desde la segunda columna/fila y terminan en la penúltima de manera\n",
    "#que cada coordenada (i, j) tiene vecinos como para efectuar su conversión\n",
    "\n",
    "for i in range(1, rows-1):\n",
    "    for j in range(1, cols-1):\n",
    "        currentNeighborhoodCoordinates = getNeighborhood(i, j)\n",
    "        currentNeighborhood = map (lambda x: bn.item (x[0], x[1]), currentNeighborhoodCoordinates)\n",
    "        maskApplied         = map (lambda x, y: x * y, currentNeighborhood, mask1)\n",
    "        result              = reduce (lambda x, y: x + y, maskApplied) / 9\n",
    "        bn.itemset((i, j), bn.item(i, j) - result)"
   ]
  },
  {
   "cell_type": "code",
   "execution_count": 3,
   "metadata": {},
   "outputs": [],
   "source": [
    "## USING A PARTIAL FILTER MASK AT THE IMAGE BORDERS ##\"\n",
    "\n",
    "#Este método varía del anterior en que esta vez las iteraciones se efectúan sobre la imagen completa y tiene\n",
    "#diferencias en la instrucción:\n",
    "#currentNeighborhood = map (lambda x: 0 if (x[0] < 0 or x[1] < 0 or x[0] >= rows or x[1] >= cols) else bn.item (x[0], x[1]), currentNeighborhoodCoordinates)\n",
    "#donde, si alguna de las coordenadas guardadas en currentNeighborhoodCoordinates se sale de bounds\n",
    "#el operador ternario retorna 0 como valor en lugar del valor actual del pixel en esa coordenada\n",
    "#Esto funciona como máscara parcial porque un 0 en la sumatoria de valores no afectará al resultado final\n",
    "\n",
    "for i in range (rows):\n",
    "    for j in range (cols):\n",
    "        currentNeighborhoodCoordinates = getNeighborhood (i, j)\n",
    "        currentNeighborhood = map (lambda x: 0 if (x[0] < 0 or x[1] < 0 or x[0] >= rows or x[1] >= cols) else bn.item (x[0], x[1]), currentNeighborhoodCoordinates)\n",
    "        maskApplied         = map (lambda x, y: x * y, currentNeighborhood, mask1)\n",
    "        result              = reduce (lambda x, y: x + y, maskApplied) / 9\n",
    "        bn.itemset((i, j), bn.item(i, j) - result)"
   ]
  },
  {
   "cell_type": "code",
   "execution_count": 3,
   "metadata": {},
   "outputs": [],
   "source": [
    "## PADDING OF THE IMAGE BY REPLICATION ROWS AND COLUMNS ##\n",
    "\n",
    "#Este método implementa los métodos de reemplazo de bordes inexistentes por los pixeles del borde contiguos\n",
    "#explicados en una de las secciones anteriores.\n",
    "#Esta lógica se aplica sobre las coordenadas obtenidas en currentNeighborhoodCoordinates = getNeighborhood (i, j)\n",
    "# donde esta instrucción currentNeighborhoodCoordinatesCorrected = map (lambda x: x if (x[0] in range (rows) and x[1] in range (cols)) else correctOutOfBounds(x, rows, cols), currentNeighborhoodCoordinates)\n",
    "#retorna un la misma coordenada si no sale de bounds o regresa la tupla corregida si es que sí sale de dimensiones\n",
    "\n",
    "for i in range (rows):\n",
    "    for j in range (cols):\n",
    "        currentNeighborhoodCoordinates = getNeighborhood (i, j)\n",
    "        currentNeighborhoodCoordinatesCorrected = map (lambda x: x if (x[0] in range (rows) and x[1] in range (cols)) else correctOutOfBounds(x, rows, cols), currentNeighborhoodCoordinates)\n",
    "        currentNeighborhood = map (lambda x: bn.item (x[0], x[1]), currentNeighborhoodCoordinatesCorrected)\n",
    "        maskApplied         = map (lambda x, y: x * y, currentNeighborhood, mask1)\n",
    "        result              = reduce (lambda x, y: x + y, maskApplied) / 9\n",
    "        bn.itemset((i, j), bn.item(i, j) - result)"
   ]
  },
  {
   "cell_type": "code",
   "execution_count": 4,
   "metadata": {},
   "outputs": [],
   "source": [
    "cv.imshow(\"Original\", original)\n",
    "cv.imshow(\"High-boosted\", bn)\n",
    "cv.waitKey(0)\n",
    "cv.destroyAllWindows()"
   ]
  },
  {
   "cell_type": "code",
   "execution_count": null,
   "metadata": {},
   "outputs": [],
   "source": []
  }
 ],
 "metadata": {
  "kernelspec": {
   "display_name": "Python 3",
   "language": "python",
   "name": "python3"
  },
  "language_info": {
   "codemirror_mode": {
    "name": "ipython",
    "version": 3
   },
   "file_extension": ".py",
   "mimetype": "text/x-python",
   "name": "python",
   "nbconvert_exporter": "python",
   "pygments_lexer": "ipython3",
   "version": "3.7.1"
  }
 },
 "nbformat": 4,
 "nbformat_minor": 2
}
