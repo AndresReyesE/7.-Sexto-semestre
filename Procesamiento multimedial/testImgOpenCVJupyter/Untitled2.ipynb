{
 "cells": [
  {
   "cell_type": "code",
   "execution_count": 14,
   "metadata": {},
   "outputs": [],
   "source": [
    "import cv2 as cv\n",
    "import numpy as np"
   ]
  },
  {
   "cell_type": "code",
   "execution_count": 26,
   "metadata": {},
   "outputs": [],
   "source": [
    "original = cv.imread('cameraman.jpg')\n",
    "bn = cv.cvtColor(original, cv.COLOR_BGR2GRAY)\n",
    "\n",
    "rows, cols = bn.shape\n",
    "\n",
    "A = 1\n",
    "mask = [[-1, -1, -1], [-1, 4, -1], [-1, -1, -1]]"
   ]
  },
  {
   "cell_type": "code",
   "execution_count": 27,
   "metadata": {},
   "outputs": [],
   "source": [
    "for i in range(rows):\n",
    "    for j in range(cols):\n",
    "        if (i > 1 and i < rows - 1) and (j > 1 and j < cols - 1):\n",
    "            acc = 0\n",
    "            acc += (bn.item(i-1, j-1) * 0)\n",
    "            acc += (bn.item(i-1, j) * -1)\n",
    "            acc += (bn.item(i-1, j+1) * 0)\n",
    "            acc += (bn.item(i, j-1) * -1)\n",
    "            acc += (bn.item(i, j) * A + 4)\n",
    "            acc += (bn.item(i, j+1) * -1)\n",
    "            acc += (bn.item(i+1, j-1) * 0)\n",
    "            acc += (bn.item(i+1, j) * -1)\n",
    "            acc += (bn.item(i+1, j+1) * 0)\n",
    "            acc /= 9\n",
    "            bn.itemset((i, j), bn.item(i, j) - acc)"
   ]
  },
  {
   "cell_type": "code",
   "execution_count": 28,
   "metadata": {},
   "outputs": [],
   "source": [
    "cv.imshow(\"original\", original)\n",
    "cv.imshow(\"bn\", bn)\n",
    "cv.waitKey(0)\n",
    "cv.destroyAllWindows()"
   ]
  },
  {
   "cell_type": "code",
   "execution_count": 5,
   "metadata": {},
   "outputs": [
    {
     "name": "stdout",
     "output_type": "stream",
     "text": [
      "10.0\n"
     ]
    }
   ],
   "source": []
  },
  {
   "cell_type": "code",
   "execution_count": null,
   "metadata": {},
   "outputs": [],
   "source": []
  }
 ],
 "metadata": {
  "kernelspec": {
   "display_name": "Python 3",
   "language": "python",
   "name": "python3"
  },
  "language_info": {
   "codemirror_mode": {
    "name": "ipython",
    "version": 3
   },
   "file_extension": ".py",
   "mimetype": "text/x-python",
   "name": "python",
   "nbconvert_exporter": "python",
   "pygments_lexer": "ipython3",
   "version": "3.7.1"
  }
 },
 "nbformat": 4,
 "nbformat_minor": 2
}
