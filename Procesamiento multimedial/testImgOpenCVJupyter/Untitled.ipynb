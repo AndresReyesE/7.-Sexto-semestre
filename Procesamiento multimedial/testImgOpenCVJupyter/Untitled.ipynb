{
 "cells": [
  {
   "cell_type": "markdown",
   "metadata": {},
   "source": [
    "# Media processing [test]"
   ]
  },
  {
   "cell_type": "markdown",
   "metadata": {},
   "source": [
    "Carlos Andrés Reyes Evangelista\n",
    "157068\n",
    "Ingeniería en Sistemas Computacionales\n",
    "\n",
    "This practice is intended to experiment for first time with some image processing using OpenCV Python [Anaconda] and Jupyter.\n",
    "\n",
    "This simple practice will load an image using OpenCV commands, visualize it, check its size, extract its RGB (BGR) channels and compare its original size and the one it has when compressed in JPEG format.\n",
    "Some Colorspace manipulation will be done as well, the image will be converted from RGB (GBR) model to Grayscale, YCrCb (YUV), CIE XYZ and HSV in order to compare those channels. "
   ]
  },
  {
   "cell_type": "code",
   "execution_count": 1,
   "metadata": {},
   "outputs": [],
   "source": [
    "#importing openCV and aliasing it to a slightly compacter name [cv]\n",
    "import cv2 as cv"
   ]
  },
  {
   "cell_type": "code",
   "execution_count": 6,
   "metadata": {},
   "outputs": [],
   "source": [
    "#variables declaration\n",
    "\n",
    "#image to be used the whole program\n",
    "#https://www.google.com.mx/url?sa=i&rct=j&q=&esrc=s&source=images&cd=&cad=rja&uact=8&ved=2ahUKEwi_4K3LrZHgAhUSJDQIHWYfCrIQjRx6BAgBEAU&url=https%3A%2F%2Fpicsart.com%2Fi%2Fsticker-fruits-png-236001103051212%3Fhl%3Des&psig=AOvVaw1Al-znNOKHmt6WJKSnhzBG&ust=1548795122575532\n",
    "#please store in the same folder than this notebook with the name of:\n",
    "#image.png\n",
    "image = cv.imread('image.png')\n",
    "\n",
    "\n",
    "\n",
    "#if the image is too big, please uncomment this line\n",
    "#image = cv.resize(image, None, fx=0.5, fy=0.5, interpolation=cv.INTER_LINEAR)\n",
    "\n",
    "\n",
    "\n",
    "\n",
    "#list of flags that will be used to change between the required colourspaces\n",
    "flags = [cv.COLOR_BGR2GRAY, cv.COLOR_BGR2YUV, cv.COLOR_BGR2XYZ, cv.COLOR_BGR2HSV]\n",
    "\n",
    "#auxiliar list of colourspaces' names. They'll be used in title bar of every window\n",
    "names = [\"RGB (BGR)\", \"GRAYSCALE\", \"YUV (YCbCr)\", \"CIE (XYZ)\", \"HSV\"]\n",
    "\n",
    "#in this list will be stored the images (Mat objects) after the colourspace changes are performed \n",
    "images = [image]\n",
    "\n",
    "#auxiliar list where every nested list stores every channel's name for every colourspace\n",
    "#note that the order is exactly correspondent to the one colocated at names list\n",
    "#the empty list correspond to the Grayscale colourspace, that has no channels to split\n",
    "channelsNames = [[\" BLUE CHANNEL\", \" GREEN CHANNEL\", \" RED CHANNEL\"],\n",
    "[],\n",
    "[\" Y GRAYSCALE\", \" U Cb CHANNEL\", \" U Cr CHANNEL\"], \n",
    "[\" BLUE CHANNEL\", \" GREEN CHANNEL\", \" RED CHANNEL\"],\n",
    "[\" HUE CHANNEL\", \" SATURATION CHANNEL\", \" VALUE CHANNEL\"]]\n",
    "\n",
    "\n"
   ]
  },
  {
   "cell_type": "code",
   "execution_count": 8,
   "metadata": {},
   "outputs": [],
   "source": [
    "#actual processing\n",
    "\n",
    "#this loop will use every flag in flags list to create a new image for each colourspace\n",
    "#the created images will be append to the images list\n",
    "for i in flags:\n",
    "    images.append(cv.cvtColor(image, i))\n",
    "    \n",
    "#this loop is the responsible for the display of every image\n",
    "#although it may look like a mess, the functioning is pretty easy:\n",
    "#the outter loop iterates for each colourspace storing in 'i' a list with:\n",
    "    #[0] the name of that colourspace, \n",
    "    #[1] the corresponding image \n",
    "    #[2] and the list with the channels' names for that colourspace\n",
    "#except for the Grayscale colourspace, the channels of that image are stored in the channels array\n",
    "#it is begun a new loop that iterates over a new list 'j' that contains:\n",
    "    #[0] the 3 channels\n",
    "    #[1] the 3 names for those channels i[2]\n",
    "#then each channel (j[0]) is displayed and the title of its window is determined by \n",
    "#\"nameOfTheColourspace(i[0]) + nameOfTheChannel (j[1])\"\n",
    "#after the four images are displayed (each in its own window), the program will wait for a key to be pressed and begin the next iteration\n",
    "for i in zip(names, images, channelsNames):\n",
    "    cv.imshow(i[0], i[1])\n",
    "    if i[0] != \"GRAYSCALE\":\n",
    "        channels = cv.split(i[1])\n",
    "        for j in zip(channels, i[2]):\n",
    "            cv.imshow(i[0] + j[1], j[0])\n",
    "    cv.waitKey(0)\n",
    "    cv.destroyAllWindows()\n",
    "\n"
   ]
  },
  {
   "cell_type": "code",
   "execution_count": 9,
   "metadata": {},
   "outputs": [
    {
     "data": {
      "text/plain": [
       "True"
      ]
     },
     "execution_count": 9,
     "metadata": {},
     "output_type": "execute_result"
    }
   ],
   "source": [
    "#a new JPEG formatted image is stored in the same folder\n",
    "cv.imwrite(\"image.jpg\", image, [cv.IMWRITE_JPEG_QUALITY, 90])"
   ]
  },
  {
   "cell_type": "code",
   "execution_count": null,
   "metadata": {},
   "outputs": [],
   "source": []
  }
 ],
 "metadata": {
  "kernelspec": {
   "display_name": "Python 3",
   "language": "python",
   "name": "python3"
  },
  "language_info": {
   "codemirror_mode": {
    "name": "ipython",
    "version": 3
   },
   "file_extension": ".py",
   "mimetype": "text/x-python",
   "name": "python",
   "nbconvert_exporter": "python",
   "pygments_lexer": "ipython3",
   "version": "3.7.1"
  }
 },
 "nbformat": 4,
 "nbformat_minor": 2
}
