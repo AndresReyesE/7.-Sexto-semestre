{
 "cells": [
  {
   "cell_type": "markdown",
   "metadata": {},
   "source": [
    "# Media processing [test]"
   ]
  },
  {
   "cell_type": "markdown",
   "metadata": {},
   "source": [
    "Carlos Andrés Reyes Evangelista\n",
    "157068\n",
    "Ingeniería en Sistemas Computacionales\n",
    "\n",
    "This practice is intended to experiment for first time with some image processing using OpenCV Python [Anaconda] and Jupyter.\n",
    "\n",
    "This simple practice will load an image using OpenCV commands, visualize it, check its size, extract its RGB (BGR) channels and compare its original size and the one it has when compressed in JPEG format.\n",
    "Some Colorspace manipulation will be done as well, the image will be converted from RGB (GBR) model to Grayscale, YCrCb (YUV), CIE XYZ and HSV in order to compare those channels. "
   ]
  },
  {
   "cell_type": "code",
   "execution_count": 2,
   "metadata": {},
   "outputs": [],
   "source": [
    "#importing openCV and aliasing it to a slightly compacter name [cv]\n",
    "import cv2 as cv"
   ]
  },
  {
   "cell_type": "code",
   "execution_count": 8,
   "metadata": {},
   "outputs": [
    {
     "name": "stdout",
     "output_type": "stream",
     "text": [
      "hgj\n",
      "hgj\n",
      "hgj\n",
      "hgj\n",
      "hgj\n",
      "hgj\n",
      "hgj\n"
     ]
    }
   ],
   "source": [
    "#variables declaration\n",
    "\n",
    "#image to be used the whole program\n",
    "image = cv.imread('image.png')\n",
    "\n",
    "#variables b, g and r will store the Red, Green and Blue channels of the image, respectively\n",
    "b, g, r = cv.split(image)\n",
    "\n",
    "#list of flags that will be used to change between the required colorspaces\n",
    "flags = [cv.COLOR_BGR2GRAY, cv.COLOR_BGR2YUV, cv.COLOR_BGR2XYZ, cv.COLOR_BGR2HSV]\n",
    "\n",
    "#list of names for every colorspace, they are going to be placed as title of every window  \n",
    "names = [\"BLUE CHANNEL\", \"GREEN CHANNEL\", \"RED CHANNEL\", \"GRAY SCALE\", \"YUV\", \"XYZ\", \"HSV\"]\n",
    "\n",
    "#list with previously initialized images\n",
    "images =[b, g, r]\n",
    "\n",
    "\n",
    "for i in flags:\n",
    "    images.append(cv.cvtColor(image, i))\n",
    "    \n",
    "for i in zip(names, images):\n",
    "    cv.imshow(i[0], i[1])\n",
    "    cv.waitKey(0)\n",
    "    cv.destroyAllWindows()\n",
    "\n",
    "    print (\"hgj\")\n",
    "    \n"
   ]
  },
  {
   "cell_type": "code",
   "execution_count": null,
   "metadata": {},
   "outputs": [],
   "source": []
  }
 ],
 "metadata": {
  "kernelspec": {
   "display_name": "Python 3",
   "language": "python",
   "name": "python3"
  },
  "language_info": {
   "codemirror_mode": {
    "name": "ipython",
    "version": 3
   },
   "file_extension": ".py",
   "mimetype": "text/x-python",
   "name": "python",
   "nbconvert_exporter": "python",
   "pygments_lexer": "ipython3",
   "version": "3.7.1"
  }
 },
 "nbformat": 4,
 "nbformat_minor": 2
}
